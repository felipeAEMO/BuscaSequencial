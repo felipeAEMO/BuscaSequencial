{
  "nbformat": 4,
  "nbformat_minor": 0,
  "metadata": {
    "colab": {
      "name": "Gradient_descent.py",
      "provenance": [],
      "authorship_tag": "ABX9TyNOvcDfmTbAyp5V/s+XUMxy",
      "include_colab_link": true
    },
    "kernelspec": {
      "name": "python3",
      "display_name": "Python 3"
    },
    "language_info": {
      "name": "python"
    }
  },
  "cells": [
    {
      "cell_type": "markdown",
      "metadata": {
        "id": "view-in-github",
        "colab_type": "text"
      },
      "source": [
        "<a href=\"https://colab.research.google.com/github/felipeProgrammingDesign/BuscaSequencial/blob/master/Gradient_descent_py.ipynb\" target=\"_parent\"><img src=\"https://colab.research.google.com/assets/colab-badge.svg\" alt=\"Open In Colab\"/></a>"
      ]
    },
    {
      "cell_type": "code",
      "metadata": {
        "id": "7nDKDlOIoChL"
      },
      "source": [
        "import numpy as np\n",
        "\n",
        "intercept = 0 #Intercept deve sempre começar com 0\n",
        "learning_rate = 0.00001 #as number that we multiply our resulting by gradient/Será considerado 4 casas decimais apos a virgula.\n",
        "precision =  -0.3199 #This tells us when to stop the algorithm\n",
        "previous_step_size = 1 #the previous step size\n",
        "#next_step_size = 1 #the next step size ?\n",
        "max_inters = 10000 # maximum number of iterations\n",
        "iters = 0 #iteration counter\n",
        "df = lambda x: 2*(x+0.32) #Gradient\n",
        "\n",
        "while previous_step_size > precision and iters < max_iters:\n",
        "    intercept_antigo = intercept #Store current x value in prev_x\n",
        "   # intercept_novo = intercept + intercept_antigo ???\n",
        "    intercept = intercept - learning_rate * df(intercept_antigo) #Grad descent\n",
        "   # intercept = intercept + learning_rate * df(intercept_novo) #Grad climb?\n",
        "    previous_step_size = abs(intercept - intercept_antigo) #Change in x\n",
        "    #next_step_size = abs(intercept - intercept_novo) #Change in ???\n",
        "    iters = iters + 1 #iteration count\n",
        "    print(\"Iteration\",iters,\"\\nX value is\",intercept) #Print iterations\n",
        "  \n",
        "    print(\"The local minimum occurs at\", intercept)\n",
        "\n",
        "\n",
        "    "
      ],
      "execution_count": null,
      "outputs": []
    }
  ]
}